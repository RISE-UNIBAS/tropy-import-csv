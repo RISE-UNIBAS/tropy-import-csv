{
 "cells": [
  {
   "cell_type": "markdown",
   "metadata": {
    "pycharm": {
     "name": "#%% md\n"
    }
   },
   "source": [
    "Input URL to CSV (for example a public link pointing to a file on SWITCHdrive: https://drive.switch.ch/index.php/s/FILE/download):"
   ]
  },
  {
   "cell_type": "code",
   "execution_count": 5,
   "metadata": {
    "pycharm": {
     "name": "#%%\n"
    }
   },
   "outputs": [],
   "source": [
    "CSV_URL = input()"
   ]
  },
  {
   "cell_type": "markdown",
   "source": [
    "Run transformation of CSV to JSON-LD:"
   ],
   "metadata": {
    "collapsed": false
   }
  },
  {
   "cell_type": "code",
   "execution_count": null,
   "outputs": [],
   "source": [
    "from main import Transform, dumps\n",
    "import requests\n",
    "\n",
    "with requests.Session() as session:\n",
    "    download = session.get(CSV_URL)\n",
    "    decoded_content = download.content.decode(\"utf-8\")\n",
    "\n",
    "print(Transform.csv2json(csv_path=decoded_content,\n",
    "                         json_path=None,\n",
    "                         photos_path=None,\n",
    "                         interactive=True))"
   ],
   "metadata": {
    "collapsed": false,
    "pycharm": {
     "name": "#%%\n"
    }
   }
  },
  {
   "cell_type": "markdown",
   "source": [
    "Copy the output to a text editor and save the file as `.JSON`."
   ],
   "metadata": {
    "collapsed": false,
    "pycharm": {
     "name": "#%% md\n"
    }
   }
  }
 ],
 "metadata": {
  "kernelspec": {
   "display_name": "Python 3 (ipykernel)",
   "language": "python",
   "name": "python3"
  },
  "language_info": {
   "codemirror_mode": {
    "name": "ipython",
    "version": 3
   },
   "file_extension": ".py",
   "mimetype": "text/x-python",
   "name": "python",
   "nbconvert_exporter": "python",
   "pygments_lexer": "ipython3",
   "version": "3.9.7"
  }
 },
 "nbformat": 4,
 "nbformat_minor": 1
}